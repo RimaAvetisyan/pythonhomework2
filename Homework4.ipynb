{
 "cells": [
  {
   "cell_type": "markdown",
   "metadata": {},
   "source": [
    "Practical"
   ]
  },
  {
   "cell_type": "code",
   "execution_count": 2,
   "metadata": {},
   "outputs": [
    {
     "name": "stdout",
     "output_type": "stream",
     "text": [
      "n=5\n",
      "A[0]-5\n",
      "A[1]2.5\n",
      "A[2]0\n",
      "A[3]1\n",
      "A[4]3\n",
      "m=4\n",
      "IND[0]0\n",
      "IND[1]0\n",
      "IND[2]4\n",
      "IND[3]4\n",
      "-4.0\n"
     ]
    }
   ],
   "source": [
    "#Index Sum\n",
    "'''You are given two sequences. The first is a sequence A of N real\n",
    "numbers (N > 0), the other is a sequence of indices IND of size M (all\n",
    "the elements of the second sequence are nonnegative integers strictly\n",
    "less than N). Output the sum of elements of A with indices from IND. For\n",
    "example, if А = [1,2,3,4,5] аnd IND = [0 3 3 2], you must calculate the\n",
    "sum A[0]+A[3]+A[3]+A[2] = 1 + 4 + 4 + 3 = 12.\n",
    "The first line of input contains a positive integer N, followed by N real\n",
    "numbers. The third line contains a nonnegative integer M followed by M\n",
    "nonnegative integers strictly less than N.\n",
    "'''\n",
    "A=[]\n",
    "IND=[]\n",
    "n=int(input('n='))\n",
    "for i in range(n):\n",
    "    A.append(float(input('A[{}]'.format(i))))\n",
    "m=int(input('m='))\n",
    "for i in range(m):\n",
    "    IND.append(int(input('IND[{}]'.format(i))))\n",
    "s=0\n",
    "for i in IND:\n",
    "    s+=A[i]\n",
    "print(s)"
   ]
  },
  {
   "cell_type": "code",
   "execution_count": 6,
   "metadata": {},
   "outputs": [
    {
     "name": "stdout",
     "output_type": "stream",
     "text": [
      "a=30\n",
      "b=40\n",
      "2\n"
     ]
    }
   ],
   "source": [
    "#The most divisor-rich number\n",
    "'''The input consists of two positive integers a and b, such that a <= b.\n",
    "Among the integers in the interval [a, b], find the one that has the most\n",
    "number of divisors. Hint: write a function that finds the number of\n",
    "divisors for a given number.\n",
    "'''\n",
    "a=int(input('a='))\n",
    "b=int(input('b='))\n",
    "def divisors(x):\n",
    "    x=len([i for i in range(1,x+1) if not n%i])\n",
    "    return x\n",
    "lst=[]\n",
    "for i in range(a,b+1):\n",
    "    lst.append(divisors(i))\n",
    "print(max(lst))"
   ]
  },
  {
   "cell_type": "code",
   "execution_count": 5,
   "metadata": {},
   "outputs": [
    {
     "data": {
      "text/plain": [
       "'Input the base width of the tree(number of ‘*’ in the bottom) and draw\\ntree with symbols *. You’re guaranteed that the number is odd. You\\nhave to decide how many spaces and ‘*’ to print in first line, and print\\nthem, then how many spaces and ‘*’ to print in the second line and so\\non.\\n'"
      ]
     },
     "execution_count": 5,
     "metadata": {},
     "output_type": "execute_result"
    }
   ],
   "source": [
    "#Tree\n",
    "'''Input the base width of the tree(number of ‘*’ in the bottom) and draw\n",
    "tree with symbols *. You’re guaranteed that the number is odd. You\n",
    "have to decide how many spaces and ‘*’ to print in first line, and print\n",
    "them, then how many spaces and ‘*’ to print in the second line and so\n",
    "on.\n",
    "'''"
   ]
  },
  {
   "cell_type": "code",
   "execution_count": 6,
   "metadata": {},
   "outputs": [
    {
     "data": {
      "text/plain": [
       "'The Goldbach’s Conjecture states that any positive even integer greater\\nthan two can be written as a sum of two primes. Given a positive even n\\nnot exceeding 10000, output two prime numbers such that their sum\\nequals n. Write a function that checks whether its argument is prime.\\n'"
      ]
     },
     "execution_count": 6,
     "metadata": {},
     "output_type": "execute_result"
    }
   ],
   "source": [
    "#The Goldbach Conjecture\n",
    "'''The Goldbach’s Conjecture states that any positive even integer greater\n",
    "than two can be written as a sum of two primes. Given a positive even n\n",
    "not exceeding 10000, output two prime numbers such that their sum\n",
    "equals n. Write a function that checks whether its argument is prime.\n",
    "'''"
   ]
  },
  {
   "cell_type": "code",
   "execution_count": 7,
   "metadata": {},
   "outputs": [
    {
     "data": {
      "text/plain": [
       "'Input 2 positive numbers a and b. It’s guaranteed that а <= b. Print all\\nthe numbers from interval [a, b], that are the same from both sides.\\nThose numbers are called palindromes. Maybe you should reverse the\\nnumber, e. g. reverse 105 and get 501.\\n'"
      ]
     },
     "execution_count": 7,
     "metadata": {},
     "output_type": "execute_result"
    }
   ],
   "source": [
    "#Palindrome numbers\n",
    "'''Input 2 positive numbers a and b. It’s guaranteed that а <= b. Print all\n",
    "the numbers from interval [a, b], that are the same from both sides.\n",
    "Those numbers are called palindromes. Maybe you should reverse the\n",
    "number, e. g. reverse 105 and get 501.\n",
    "'''"
   ]
  },
  {
   "cell_type": "code",
   "execution_count": 8,
   "metadata": {},
   "outputs": [
    {
     "data": {
      "text/plain": [
       "'You’re given a sequence of real numbers A. Print a sequence B so that,\\ni-th element of the sequence B is equal to the sum of all elements in\\nsequence A starting from i-th.\\n'"
      ]
     },
     "execution_count": 8,
     "metadata": {},
     "output_type": "execute_result"
    }
   ],
   "source": [
    "#Suffix Sums\n",
    "'''You’re given a sequence of real numbers A. Print a sequence B so that,\n",
    "i-th element of the sequence B is equal to the sum of all elements in\n",
    "sequence A starting from i-th.\n",
    "'''"
   ]
  },
  {
   "cell_type": "code",
   "execution_count": 9,
   "metadata": {},
   "outputs": [
    {
     "data": {
      "text/plain": [
       "'A cyclic shift of a sequence to the right is a sequence that is built by\\nshifting the last element of an initial sequence to the beginning. Given\\nnumbers N and k and a sequence of whole numbers of length N, output\\nthe result of consecutive shifting to the right k times.\\n'"
      ]
     },
     "execution_count": 9,
     "metadata": {},
     "output_type": "execute_result"
    }
   ],
   "source": [
    "#Cyclic shift\n",
    "'''A cyclic shift of a sequence to the right is a sequence that is built by\n",
    "shifting the last element of an initial sequence to the beginning. Given\n",
    "numbers N and k and a sequence of whole numbers of length N, output\n",
    "the result of consecutive shifting to the right k times.\n",
    "'''"
   ]
  },
  {
   "cell_type": "code",
   "execution_count": null,
   "metadata": {},
   "outputs": [],
   "source": []
  }
 ],
 "metadata": {
  "kernelspec": {
   "display_name": "Python 3",
   "language": "python",
   "name": "python3"
  },
  "language_info": {
   "codemirror_mode": {
    "name": "ipython",
    "version": 3
   },
   "file_extension": ".py",
   "mimetype": "text/x-python",
   "name": "python",
   "nbconvert_exporter": "python",
   "pygments_lexer": "ipython3",
   "version": "3.7.6"
  }
 },
 "nbformat": 4,
 "nbformat_minor": 4
}
