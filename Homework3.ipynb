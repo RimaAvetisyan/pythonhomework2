{
 "cells": [
  {
   "cell_type": "code",
   "execution_count": 2,
   "metadata": {},
   "outputs": [
    {
     "name": "stdout",
     "output_type": "stream",
     "text": [
      "500\n",
      "100\n",
      "1000\n",
      "900\n"
     ]
    }
   ],
   "source": [
    "#Salaries\n",
    "'''Given the salaries of three employees working at a department, find the\n",
    "amount of money by which the salary of the highest-paid employee\n",
    "differs from the salary of the lowest-paid employee. The input consists of\n",
    "three positive integers - the salaries of the employees. Output a single\n",
    "number, the difference between the top and the bottom salaries\n",
    "'''\n",
    "lst=[]\n",
    "for i in range(3):\n",
    "    lst.append(int(input()))\n",
    "lst.sort()\n",
    "print(lst[2]-lst[0])"
   ]
  },
  {
   "cell_type": "code",
   "execution_count": 8,
   "metadata": {},
   "outputs": [
    {
     "name": "stdout",
     "output_type": "stream",
     "text": [
      "455555555\n",
      "Interesting\n"
     ]
    }
   ],
   "source": [
    "#Boring Numbers\n",
    "'''A natural number is said to be boring if all its digits are the same.\n",
    "Determine if the given number is boring.\n",
    "'''\n",
    "x=int(input())\n",
    "a=x%10\n",
    "x//10\n",
    "t=True\n",
    "while(x>0):\n",
    "    if x%10!=a:\n",
    "        t=False\n",
    "    x//=10\n",
    "if t==True:\n",
    "    print(\"Boring\")\n",
    "else:\n",
    "    print(\"Interesting\")"
   ]
  },
  {
   "cell_type": "code",
   "execution_count": null,
   "metadata": {},
   "outputs": [],
   "source": [
    "#Largest Number\n",
    "'''You are given a natural number. If it is possible to rearrange/shuffle its\n",
    "digits and get a larger number than the one you started with, output\n",
    "“Yes”. Otherwise, output “No”. For example, given 3112 you can\n",
    "rearrange the digits and get 3211, which is larger than 3112, hence the\n",
    "answer is Yes. In contrast, no matter how you rearrange the digits of\n",
    "987, you will not be able to get a larger number, hence the answer for\n",
    "987 should be No.\n",
    "'''\n",
    "x=int(input())\n",
    "t=True\n",
    "while(x>0):\n",
    "    if(x%10)>x/10%10:\n",
    "        t=False\n",
    "        break\n",
    "    x/=10\n",
    "if(t):\n",
    "    print('no')\n",
    "else:\n",
    "    print('yes')"
   ]
  },
  {
   "cell_type": "code",
   "execution_count": 7,
   "metadata": {},
   "outputs": [
    {
     "name": "stdout",
     "output_type": "stream",
     "text": [
      "a0__1\n",
      "b0__9\n",
      "a1__4\n",
      "b1__7\n",
      "[1.0, 4.0]\n",
      "[7.0, 9.0]\n",
      "[1.0, 1.1, 1.2000000000000002, 1.3000000000000003, 1.4000000000000004, 1.5000000000000004, 1.6000000000000005, 1.7000000000000006, 1.8000000000000007, 1.9000000000000008, 2.000000000000001, 2.100000000000001, 2.200000000000001, 2.300000000000001, 2.4000000000000012, 2.5000000000000013, 2.6000000000000014, 2.7000000000000015, 2.8000000000000016, 2.9000000000000017, 3.0000000000000018, 3.100000000000002, 3.200000000000002, 3.300000000000002, 3.400000000000002, 3.500000000000002, 3.6000000000000023, 3.7000000000000024, 3.8000000000000025, 3.9000000000000026, 4.000000000000003]\n",
      "[7.0, 7.1, 7.199999999999999, 7.299999999999999, 7.399999999999999, 7.499999999999998, 7.599999999999998, 7.6999999999999975, 7.799999999999997, 7.899999999999997, 7.9999999999999964, 8.099999999999996, 8.199999999999996, 8.299999999999995, 8.399999999999995, 8.499999999999995, 8.599999999999994, 8.699999999999994, 8.799999999999994, 8.899999999999993, 8.999999999999993]\n",
      "[]\n",
      "Line Segment Intersection 0\n"
     ]
    }
   ],
   "source": [
    "#Line Segment Intersection\n",
    "'''You are given four real numbers- a1, b1, a2, b2 - The endpoints of two\n",
    "line segments on a line. Find the length of their intersection. Note that\n",
    "the order of the endpoints of a segment is irrelevant, i.e. the segments\n",
    "[1;2] and [2;1] are considered the same.'''\n",
    "import numpy as np\n",
    "import math\n",
    "lst1=[]\n",
    "lst2=[]\n",
    "l1=[]\n",
    "l2=[]\n",
    "for i in range(2):\n",
    "    lst1.append(float(input('a{}__'.format(i))))\n",
    "    lst2.append(float(input('b{}__'.format(i))))\n",
    "lst1.sort()\n",
    "lst2.sort()\n",
    "print(lst1)\n",
    "print(lst2)\n",
    "x=lst1[0]\n",
    "for i in np.arange(lst1[0],lst1[1]+0.1,0.1):\n",
    "    l1.append(i)\n",
    "for i in np.arange(lst2[0],lst2[1]+0.1,0.1):\n",
    "    l2.append(i)\n",
    "new=[]\n",
    "print(l1)\n",
    "print(l2)\n",
    "for i in range(len(l1)):\n",
    "    for j in range (len(l2)):\n",
    "        if abs(l1[i]-l2[j])<0.00001:\n",
    "            new.append(l1[i])\n",
    "print(new)\n",
    "\n",
    "if(bool(new)):\n",
    "    print('Line Segment Intersection',max(new)-min(new))\n",
    "else:\n",
    "    print('Line Segment Intersection',0)"
   ]
  },
  {
   "cell_type": "code",
   "execution_count": 30,
   "metadata": {},
   "outputs": [
    {
     "name": "stdout",
     "output_type": "stream",
     "text": [
      "10\n",
      "4\n"
     ]
    }
   ],
   "source": [
    "#Number Of Divisors\n",
    "'''Input a positive x. Find the number of divisors of that x.\n",
    "(Hint: you can check if y is a divisor for x by checking x%y == 0)\n",
    "'''\n",
    "x=int(input())\n",
    "q=1\n",
    "n=1\n",
    "while(n<x):\n",
    "    if x%n==0:\n",
    "        q+=1\n",
    "    n+=1\n",
    "print(q)"
   ]
  },
  {
   "cell_type": "code",
   "execution_count": 1,
   "metadata": {},
   "outputs": [
    {
     "name": "stdout",
     "output_type": "stream",
     "text": [
      "a=0\n",
      "b=0\n",
      "c=0\n",
      "Non-quadratic equation\n",
      "Discriminant:0.0\n",
      "Infinite solutions\n"
     ]
    }
   ],
   "source": [
    "#Quadratic Equation\n",
    "'''Input three real numbers a, b, c and solve the equation ax2+bx+c=0.\n",
    "Output an information about whether the equation is\n",
    "1. Quadratic equation\n",
    "2. Non-quadratic equation\n",
    "For quadratic equations output the value of it’s discriminant\n",
    "And in any case output the number of solutions, and the solutions\n",
    "themselves. Follow the examples below.\n",
    "D = b * b - 4 * a * c\n",
    "X1,2 = (-b +- sqrt(D)) / 2 * a\n",
    "'''\n",
    "from math import sqrt\n",
    "a=float(input('a='))\n",
    "b=float(input('b='))\n",
    "c=float(input('c='))\n",
    "if a==0:\n",
    "    print('Non-quadratic equation')\n",
    "else:\n",
    "    print('Quadratic equation')\n",
    "d=b**2-4*a*c\n",
    "print('Discriminant:{}'.format(d))\n",
    "if a==0 and b==0 or d<0:\n",
    "    print('Infinite solutions')\n",
    "elif a==0 and b==0 or d<0:\n",
    "    print('No Solutions')\n",
    "elif d==0 :\n",
    "    x=-b/(2*a)\n",
    "    print('One solution:{})'.format(x))\n",
    "elif a==0:\n",
    "    x=-c/b\n",
    "    print('One solution:{})'.format(x))\n",
    "else:\n",
    "    x1=(-b+sqrt(d))/(2*a)\n",
    "    x2=(-b-sqrt(d))/(2*a)\n",
    "    print('Two solutions:{},{})'.format(x1,x2))"
   ]
  },
  {
   "cell_type": "code",
   "execution_count": 3,
   "metadata": {},
   "outputs": [
    {
     "name": "stdout",
     "output_type": "stream",
     "text": [
      "abcde\n"
     ]
    }
   ],
   "source": [
    "\n",
    "#List 1\n",
    "'''Write a Python program to convert a list of characters into a string.\n",
    "'''\n",
    "lst=['a','b','c','d','e']\n",
    "string=''\n",
    "for i in lst:\n",
    "    string+=i\n",
    "print(string)"
   ]
  },
  {
   "cell_type": "code",
   "execution_count": null,
   "metadata": {},
   "outputs": [],
   "source": [
    "\n",
    "#List 2\n",
    "'''Write a Python program to find the second smallest number in a list.\n",
    "'''\n",
    "lst=[1,5,4,-2,5,7,6,9,2,-9,-45]\n",
    "lst.sort()\n",
    "print(lst[1])"
   ]
  },
  {
   "cell_type": "code",
   "execution_count": null,
   "metadata": {},
   "outputs": [],
   "source": []
  }
 ],
 "metadata": {
  "kernelspec": {
   "display_name": "Python 3",
   "language": "python",
   "name": "python3"
  },
  "language_info": {
   "codemirror_mode": {
    "name": "ipython",
    "version": 3
   },
   "file_extension": ".py",
   "mimetype": "text/x-python",
   "name": "python",
   "nbconvert_exporter": "python",
   "pygments_lexer": "ipython3",
   "version": "3.7.6"
  }
 },
 "nbformat": 4,
 "nbformat_minor": 4
}
