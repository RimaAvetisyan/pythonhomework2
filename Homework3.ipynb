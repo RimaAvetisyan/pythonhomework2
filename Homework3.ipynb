{
 "cells": [
  {
   "cell_type": "code",
   "execution_count": 4,
   "metadata": {},
   "outputs": [
    {
     "name": "stdout",
     "output_type": "stream",
     "text": [
      "4210901\n",
      "72\n"
     ]
    }
   ],
   "source": [
    "#Digit Product \n",
    "'''Input a natural n and output the product of its nonzero digits\n",
    "'''\n",
    "n=int(input())\n",
    "p=1\n",
    "while(n>0):\n",
    "    if n%10!=0:\n",
    "         p*=n%10\n",
    "    n//=10\n",
    "print(p)"
   ]
  },
  {
   "cell_type": "code",
   "execution_count": 12,
   "metadata": {},
   "outputs": [
    {
     "name": "stdout",
     "output_type": "stream",
     "text": [
      "500\n",
      "243\n"
     ]
    }
   ],
   "source": [
    "#Largest Power of 3 \n",
    "'''Given a natural number N, output the largest integer power of 3 which does not exceed N. \n",
    "'''\n",
    "n=int(input())\n",
    "q=0\n",
    "while n>=3:\n",
    "    n//=3\n",
    "    q+=1\n",
    "print(3**q)"
   ]
  },
  {
   "cell_type": "code",
   "execution_count": 2,
   "metadata": {},
   "outputs": [
    {
     "name": "stdout",
     "output_type": "stream",
     "text": [
      "-5\n",
      "-9\n",
      "-4\n",
      "[-9, -5, -4]\n",
      "No triangle\n"
     ]
    }
   ],
   "source": [
    "#Triangle\n",
    "'''You are given three whole numbers a, b, and c.\n",
    "If there doesn’t exist a non-degenerate triangle with such sides, output “No Triangle”.\n",
    "If the triangle exists and all its angles are acute, output “Acute Triangle”. \n",
    "If the triangle exists and has a right angle, output “Right Triangle”. \n",
    "If the triangle exists and has an obtuse angle, output “Obtuse Triangle.” \n",
    "'''\n",
    "lst=[ ]\n",
    "for i in range(3):\n",
    "    lst.append(int(input()))\n",
    "lst.sort()\n",
    "print(lst)\n",
    "if (lst[0]+lst[1])<=lst[2] :\n",
    "    print('No triangle')\n",
    "elif lst[0]**2+lst[1]**2==lst[2]**2:\n",
    "    print(\"Right Triangle\")\n",
    "elif lst[0]**2+lst[1]**2>lst[2]**2:\n",
    "    print(\"Acute Triangle\")\n",
    "elif lst[0]**2+lst[1]**2<lst[2]**2:\n",
    "    print(\"Obtuse Triangle\")"
   ]
  },
  {
   "cell_type": "code",
   "execution_count": 4,
   "metadata": {},
   "outputs": [
    {
     "name": "stdout",
     "output_type": "stream",
     "text": [
      "39\n",
      "12\n",
      "3\n"
     ]
    }
   ],
   "source": [
    "#The Root of the Number \n",
    "'''The root of a number is  - the sum of its digits if that sum is less than 10  - the root of the\n",
    "sum of its digits otherwise. Let’s consider 78996. The sum of its digits is 39. \n",
    "Since it’s not less than 10, we have to find the root of 39. The sum of its digits is 12. \n",
    "Still not less than 10, so repeating again, we add the digits again and get 3,\n",
    "which is finally less than 10. So the root of 78996 is 3. Given a natural number N,\n",
    "find its root, outputting intermediary results in the process, as shown in the samples. \n",
    "Sample \n",
    "'''\n",
    "x=int(input())\n",
    "while x>10:\n",
    "    s=0\n",
    "    n=x\n",
    "    while n>0:\n",
    "        s+=n%10\n",
    "        n//=10\n",
    "    print(s)\n",
    "    x=s\n"
   ]
  },
  {
   "cell_type": "code",
   "execution_count": null,
   "metadata": {},
   "outputs": [],
   "source": []
  },
  {
   "cell_type": "code",
   "execution_count": null,
   "metadata": {},
   "outputs": [],
   "source": []
  }
 ],
 "metadata": {
  "kernelspec": {
   "display_name": "Python 3",
   "language": "python",
   "name": "python3"
  },
  "language_info": {
   "codemirror_mode": {
    "name": "ipython",
    "version": 3
   },
   "file_extension": ".py",
   "mimetype": "text/x-python",
   "name": "python",
   "nbconvert_exporter": "python",
   "pygments_lexer": "ipython3",
   "version": "3.7.6"
  }
 },
 "nbformat": 4,
 "nbformat_minor": 4
}
