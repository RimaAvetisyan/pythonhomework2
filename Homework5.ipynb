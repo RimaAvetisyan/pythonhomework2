{
 "cells": [
  {
   "cell_type": "code",
   "execution_count": null,
   "metadata": {},
   "outputs": [],
   "source": [
    "#Bayan\n",
    "'''\n",
    "Time limit: 1.0 second\n",
    "Memory limit: 64 MB\n",
    "As everybody knows, there are a lot of stores in skyscrapers,\n",
    "it's the favourite place of glamorous girls. \n",
    "Blonde Cindy loves only one thing — the shopping. \n",
    "Today is one of the best days, she's going shopping to the new \n",
    "skyscraper “Prisma”. At first she decided to visit all the \n",
    "stores. But actually the “Prisma” is so large that you can \n",
    "find not just one store of each brand. Every time when Cindy \n",
    "found the brand, she has visited before, she told “Bayan”, \n",
    "and went on shopping.\n",
    "Cindy saw all the stores in the “Prisma”. So how many times \n",
    "did she tell “Bayan”?\n",
    "\n",
    "Input\n",
    "First line contains single integer N representing the number of\n",
    "stores in the “Prisma” (1 ≤ N ≤ 1000). In each of next N lines\n",
    "the brand of store is written. The brands are the strings of \n",
    "Latin letters and blanks. The length of the string is from 1\n",
    "to 30. There are no brands, that differ only in register.\n",
    "Output\n",
    "Print the number of stores, Cindy didn't visit.'''\n",
    "\n",
    "n=int(input('n='))\n",
    "brands=[]\n",
    "visited=[]\n",
    "q=0\n",
    "for i in range(n):\n",
    "    shop=input()\n",
    "    brands.append(shop)\n",
    "    if not shop in visited:\n",
    "        visited.append(shop)\n",
    "    else:\n",
    "        q+=1\n",
    "print(q)\n",
    "    "
   ]
  },
  {
   "cell_type": "code",
   "execution_count": 2,
   "metadata": {},
   "outputs": [
    {
     "name": "stdout",
     "output_type": "stream",
     "text": [
      "t=2\n",
      "money=4\n",
      "size=5\n",
      "cost[0]=1\n",
      "cost[1]=4\n",
      "cost[2]=5\n",
      "cost[3]=3\n",
      "cost[4]=2\n",
      "money=4\n",
      "size=4\n",
      "cost[0]=2\n",
      "cost[1]=2\n",
      "cost[2]=4\n",
      "cost[3]=3\n",
      "answer:[[1, 4], [1, 2]] \n"
     ]
    }
   ],
   "source": [
    "#Ice Cream Parlor\n",
    "'''Each time Sunny and Johnny take a trip to the Ice Cream Parlor, they pool their money to buy \n",
    "ice cream. On any given day, the parlor offers a line of flavors. Each flavor has a cost associated \n",
    "with it.\n",
    "\n",
    "Given the value of money and the  of each flavor for t trips to the Ice Cream Parlor,\n",
    "help Sunny and Johnny choose two distinct flavors such that they spend their entire pool of money \n",
    "during each visit. ID numbers are the 1- based index number associated with a cost. For each trip \n",
    "to the parlor, print the ID numbers for the two types of ice cream that Sunny and Johnny purchase \n",
    "as two space-separated integers on a new line. You must print the smaller ID first and the larger\n",
    "ID second.'''\n",
    "\n",
    "t=int(input('t='))\n",
    "answer=[]\n",
    "for i in range (t):\n",
    "    money=int(input('money='))\n",
    "    costsize=int(input('size='))\n",
    "    cost=[]\n",
    "    for j in range(costsize):\n",
    "        cost.append(int(input(f'cost[{j}]=')))\n",
    "    for j in range(len(cost)-1):\n",
    "        for k in range(j+1,len(cost)):\n",
    "            if cost[j]+cost[k]==money:\n",
    "                answer.append([j+1,k+1])\n",
    "                break\n",
    "                break\n",
    "    \n",
    "print(f'answer:{answer} ')"
   ]
  },
  {
   "cell_type": "code",
   "execution_count": 17,
   "metadata": {},
   "outputs": [
    {
     "name": "stdout",
     "output_type": "stream",
     "text": [
      "n=10\n",
      "b[0]0\n",
      "b[1]1\n",
      "b[2]0\n",
      "b[3]0\n",
      "b[4]1\n",
      "b[5]0\n",
      "b[6]1\n",
      "b[7]0\n",
      "b[8]1\n",
      "b[9]0\n",
      "3\n"
     ]
    }
   ],
   "source": [
    "#Beautiful binary string\n",
    "'''Alice has a binary string. She thinks a binary string is beautiful if and only if it doesn't\n",
    "contain the substring .\n",
    "In one step, Alice can change a  to a  or vice versa. Count and print the minimum number of \n",
    "steps needed to make Alice see the string as beautiful.\n",
    "Example\n",
    "b=010\n",
    "She can change any one element and have a beautiful string\n",
    "'''\n",
    "n=int(input('n='))\n",
    "b=\"\"\n",
    "for i in range(n):\n",
    "    b+=input(f'b[{i}]')\n",
    "def beautifulBinaryString (str):\n",
    "    moves=0\n",
    "    lst=list(str)\n",
    "    if '010' in str:\n",
    "        for i in range(len(lst)-2):\n",
    "            if lst[i]+lst[i+1]+lst[i+2]=='010':\n",
    "                    lst[i+2]='1'\n",
    "                    moves+=1\n",
    "    return moves\n",
    "\n",
    "print(beautifulBinaryString (b))\n"
   ]
  },
  {
   "cell_type": "code",
   "execution_count": 8,
   "metadata": {},
   "outputs": [
    {
     "name": "stdout",
     "output_type": "stream",
     "text": [
      "string=xyzxyz\n",
      "k=-2\n",
      "xyz\n"
     ]
    }
   ],
   "source": [
    "#String power\n",
    "'''Suppose you have a string s and an integer k. If k is nonnegative, then\n",
    "sk is a string resulting in k-fold concatenation of s to itself. If k is\n",
    "negative, then sk is a string x such that x-k is equal to s. Obviously, if k\n",
    "is negative sk is not always defined.\n",
    "Given a string s and an integer k, output sk if it is defined and the word\n",
    "“undefined” otherwise\n",
    "'''\n",
    "string=input(\"string=\")\n",
    "k=int(input('k='))\n",
    "if k==0:\n",
    "    print('nothing')\n",
    "elif k==1 or k==-1:\n",
    "    print(string)\n",
    "elif k>0:\n",
    "    print(string*k)\n",
    "elif len(string)%(-1*k)==0:\n",
    "    a=len(string)//-k\n",
    "    lst=list(string)\n",
    "    t=True\n",
    "    for i in range(0,len(lst)-a):\n",
    "        if lst[i]!=lst[i+a] :\n",
    "            t=False\n",
    "            break\n",
    "    if t :\n",
    "        print(string[0:a])\n",
    "    else:\n",
    "        print('undefined')\n",
    "else:\n",
    "    print('undefined')\n",
    "    "
   ]
  },
  {
   "cell_type": "code",
   "execution_count": 11,
   "metadata": {},
   "outputs": [
    {
     "name": "stdout",
     "output_type": "stream",
     "text": [
      "n=2\n",
      "string1hello\n",
      "string2world\n",
      "Yes\n",
      "string1hi\n",
      "string2world\n",
      "No\n"
     ]
    }
   ],
   "source": [
    "#Two strings\n",
    "'''Вам даны две строки a и b. Определите, существует ли непустая строка, которая встречается как\n",
    "подстрока и в a , и в b .\n",
    "Input Format\n",
    "В первой строке записано целое число  t- количество тестов. Далее следуют сами тесты.\n",
    "Каждый тест описывается двумя строками, в первой из которых записана строка a , а во второй строка b.\n",
    "Output Format\n",
    "Для каждого теста выведите ответ: строку YES, либо строку NO.\n",
    "'''\n",
    "n=int(input('n='))\n",
    "def strings():\n",
    "        str1=input('string1  ')\n",
    "        str2=input('string2  ')\n",
    "        for j in str1:\n",
    "            if j in str2:\n",
    "                return 'Yes'\n",
    "        return 'No'\n",
    "for i in range(n):\n",
    "    print(strings())\n"
   ]
  },
  {
   "cell_type": "code",
   "execution_count": 12,
   "metadata": {},
   "outputs": [
    {
     "name": "stdout",
     "output_type": "stream",
     "text": [
      "jewels=  aA\n",
      "stones=  aAAbbbb\n",
      "3\n"
     ]
    }
   ],
   "source": [
    "#Jewels and Stones\n",
    "'''You're given strings jewels representing the types of stones that are jewels, and stones \n",
    "representing the stones you have. Each character in stones is a type of stone you have. \n",
    "You want to know how many of the stones you have are also jewels.\n",
    "Letters are case sensitive, so \"a\" is considered a different type of stone from \"A\".\n",
    "'''\n",
    "jewels = input('jewels=  ')\n",
    "stones = input('stones=  ')\n",
    "q=0\n",
    "for i in stones:\n",
    "    if i in jewels:\n",
    "        q+=1\n",
    "print(q)"
   ]
  },
  {
   "cell_type": "code",
   "execution_count": null,
   "metadata": {},
   "outputs": [],
   "source": []
  }
 ],
 "metadata": {
  "kernelspec": {
   "display_name": "Python 3",
   "language": "python",
   "name": "python3"
  },
  "language_info": {
   "codemirror_mode": {
    "name": "ipython",
    "version": 3
   },
   "file_extension": ".py",
   "mimetype": "text/x-python",
   "name": "python",
   "nbconvert_exporter": "python",
   "pygments_lexer": "ipython3",
   "version": "3.7.6"
  }
 },
 "nbformat": 4,
 "nbformat_minor": 4
}
