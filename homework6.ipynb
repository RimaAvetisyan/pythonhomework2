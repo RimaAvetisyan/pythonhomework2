{
 "cells": [
  {
   "cell_type": "code",
   "execution_count": 8,
   "metadata": {},
   "outputs": [
    {
     "name": "stdout",
     "output_type": "stream",
     "text": [
      "iscomplex  [(1+1j), 2j]\n",
      "isreal [(1+0j), (4.5+0j), (3+0j), (2+0j)]\n",
      "isscalar []\n",
      "True\n"
     ]
    }
   ],
   "source": [
    "#1\n",
    "'''For the given NumPy array find all complex and real numbers. Also test whether a given\n",
    "number is a scalar type or not.\n",
    "'''\n",
    "import numpy as np\n",
    "a=np.array([1+1j, 1+0j, 4.5, 3, 2, 2j])\n",
    "iscomplex=[]\n",
    "isreal=[]\n",
    "isscalar=[]\n",
    "for i in a:\n",
    "    if np.iscomplex(i):\n",
    "        iscomplex.append(i)\n",
    "    elif np.isreal(i):\n",
    "        isreal.append(i)\n",
    "    elif np.isscalar(i)==True:\n",
    "        isscalar.append(i)\n",
    "print('iscomplex ',iscomplex)\n",
    "print('isreal',isreal)\n",
    "print('isscalar',isscalar)\n",
    "print(np.isscalar(4.5+0j))"
   ]
  },
  {
   "cell_type": "code",
   "execution_count": 14,
   "metadata": {},
   "outputs": [
    {
     "name": "stdout",
     "output_type": "stream",
     "text": [
      "[16  8  3  4  6  1 14  9  2 14] & [15 18 16 15 14 15 10  5 12  0]\n",
      "greater   [ True False False False False False  True  True False  True]\n",
      "greater_equal   [ True False False False False False  True  True False  True]\n",
      "less   [False  True  True  True  True  True False False  True False]\n",
      "less_equal   [False  True  True  True  True  True False False  True False]\n"
     ]
    }
   ],
   "source": [
    "#2\n",
    "'''Write a NumPy program to create an element-wise comparison (greater, greater_equal, less\n",
    "and less_equal) of two given arrays.\n",
    "'''\n",
    "arr1=np.random.randint(0,20,10)\n",
    "arr2=np.random.randint(0,20,10)\n",
    "print(arr1,'&',arr2)\n",
    "\n",
    "greater=np.greater(arr1,arr2)\n",
    "greater_equal=np.greater_equal(arr1,arr2)\n",
    "less=np.less(arr1,arr2)\n",
    "less_equal=np.less_equal(arr1,arr2)\n",
    "\n",
    "print('greater  ',greater)\n",
    "print('greater_equal  ',greater_equal)\n",
    "print('less  ',less)\n",
    "print('less_equal  ',less_equal)\n"
   ]
  },
  {
   "cell_type": "code",
   "execution_count": 17,
   "metadata": {},
   "outputs": [
    {
     "name": "stdout",
     "output_type": "stream",
     "text": [
      "[0. 0. 0. 0. 0. 0. 0. 0. 0. 0.] \n",
      " [1. 1. 1. 1. 1. 1. 1. 1. 1. 1.] \n",
      " [5. 5. 5. 5. 5. 5. 5. 5. 5. 5.]\n"
     ]
    }
   ],
   "source": [
    "#3\n",
    "'''Create a NumPy array of 10 zeros,10 ones, 10 fives.\n",
    "'''\n",
    "zeros=np.zeros(10)\n",
    "ones=np.ones(10)\n",
    "fives=ones*5\n",
    "print(zeros,'\\n',ones,'\\n',fives)"
   ]
  },
  {
   "cell_type": "code",
   "execution_count": 18,
   "metadata": {},
   "outputs": [
    {
     "data": {
      "text/plain": [
       "array([ 0.,  0.,  0.,  0.,  0., 11.,  0.,  0.,  0.,  0.])"
      ]
     },
     "execution_count": 18,
     "metadata": {},
     "output_type": "execute_result"
    }
   ],
   "source": [
    "#4\n",
    "'''Create a vector of size 10 with all zeros and update sixth value to 11.\n",
    "'''\n",
    "zeros=np.zeros(10)\n",
    "zeros[5]=11\n",
    "zeros"
   ]
  },
  {
   "cell_type": "code",
   "execution_count": 20,
   "metadata": {},
   "outputs": [
    {
     "name": "stdout",
     "output_type": "stream",
     "text": [
      "n=5\n",
      "[ 9.42847504  9.75851169  9.8859506  10.32105847 10.11470814]\n",
      "[10.11470814 10.32105847  9.8859506   9.75851169  9.42847504]\n"
     ]
    }
   ],
   "source": [
    "#5\n",
    "'''Create a n-sized vector with random numbers from normal distribution and reverse it.\n",
    "'''\n",
    "n=int(input('n='))\n",
    "normal = np.random.normal(10, 0.5, n)\n",
    "\n",
    "print(normal)\n",
    "rev=np.flip(normal, axis=None)\n",
    "print(rev)"
   ]
  },
  {
   "cell_type": "code",
   "execution_count": 28,
   "metadata": {},
   "outputs": [
    {
     "name": "stdout",
     "output_type": "stream",
     "text": [
      "n=4\n",
      "[[0. 0. 0. 0. 0. 0.]\n",
      " [0. 1. 1. 1. 1. 0.]\n",
      " [0. 1. 1. 1. 1. 0.]\n",
      " [0. 1. 1. 1. 1. 0.]\n",
      " [0. 1. 1. 1. 1. 0.]\n",
      " [0. 0. 0. 0. 0. 0.]]\n"
     ]
    }
   ],
   "source": [
    "#6\n",
    "'''Add a border with zeros to the given square NumPy matrix.\n",
    "\n",
    "Original array:\n",
    "[[ 1. 1. 1.]\n",
    "[ 1. 1. 1.]\n",
    "[ 1. 1. 1.]]\n",
    "1 on the border and 0 inside in the array\n",
    "[[ 0. 0. 0. 0. 0.]\n",
    "[ 0. 1. 1. 1. 0.]\n",
    "[ 0. 1. 1. 1. 0.]\n",
    "[ 0. 1. 1. 1. 0.]\n",
    "[ 0. 0. 0. 0. 0.]]\n",
    "'''\n",
    "n=int(input('n='))\n",
    "arr=np.ones((n,n))\n",
    "matrix=np.empty((n+2,n+2))\n",
    "for i in range(n+2):\n",
    "    for j in range(n+2):\n",
    "        if i==0 or j==0 or i==n+1 or j==n+1:\n",
    "            matrix[i][j]=0\n",
    "        else:\n",
    "            matrix[i][j]=arr[i-1][j-1]\n",
    "print(matrix)"
   ]
  },
  {
   "cell_type": "code",
   "execution_count": 17,
   "metadata": {},
   "outputs": [
    {
     "name": "stdout",
     "output_type": "stream",
     "text": [
      "[[0 1 0 1 0 1 0 1]\n",
      " [1 0 1 0 1 0 1 0]\n",
      " [0 1 0 1 0 1 0 1]\n",
      " [1 0 1 0 1 0 1 0]\n",
      " [0 1 0 1 0 1 0 1]\n",
      " [1 0 1 0 1 0 1 0]\n",
      " [0 1 0 1 0 1 0 1]\n",
      " [1 0 1 0 1 0 1 0]]\n"
     ]
    }
   ],
   "source": [
    "#7\n",
    "'''Create a square NumPy matrix and fill it with a checkerboard pattern.\n",
    "\n",
    "Checkerboard pattern:\n",
    "[[0 1 0 1 0 1 0 1]\n",
    "[1 0 1 0 1 0 1 0]\n",
    "[0 1 0 1 0 1 0 1]\n",
    "[1 0 1 0 1 0 1 0]\n",
    "[0 1 0 1 0 1 0 1]\n",
    "[1 0 1 0 1 0 1 0]\n",
    "[0 1 0 1 0 1 0 1]\n",
    "[1 0 1 0 1 0 1 0]]\n",
    "'''\n",
    "import numpy as np\n",
    "matrix=np.ones((8,8),dtype=np.int16)\n",
    "\n",
    "for i in range(8):\n",
    "    for j in range(i%2,8,2):\n",
    "        matrix[i][j]=0\n",
    "print(matrix)            "
   ]
  },
  {
   "cell_type": "code",
   "execution_count": 31,
   "metadata": {},
   "outputs": [
    {
     "name": "stdout",
     "output_type": "stream",
     "text": [
      "[ 5  3  0 14  3 13 12  0 10  8]\n",
      "[41.  37.4 32.  57.2 37.4 55.4 53.6 32.  50.  46.4]\n"
     ]
    }
   ],
   "source": [
    "#8\n",
    "'''Convert the Centigrade degrees NumPy array into Fahrenheit degrees. Here is the formula to\n",
    "convert: .\n",
    "F = C*9/5+ 32\n",
    "'''\n",
    "centig=np.random.randint(-5,20,10)\n",
    "fahren=centig*9/5+32\n",
    "print(centig)\n",
    "print(fahren)"
   ]
  },
  {
   "cell_type": "code",
   "execution_count": 34,
   "metadata": {},
   "outputs": [
    {
     "name": "stdout",
     "output_type": "stream",
     "text": [
      "True\n"
     ]
    }
   ],
   "source": [
    "#9\n",
    "'''Write a NumPy program to test whether each element of a 1-D array is also present in a\n",
    "second array.\n",
    "'''\n",
    "arr1=np.random.randint(1,20,10)\n",
    "arr2=np.random.randint(1,20,100)\n",
    "t=True\n",
    "for i in arr1:\n",
    "    if i not in arr2:\n",
    "        t=False\n",
    "        break\n",
    "print(t)"
   ]
  },
  {
   "cell_type": "code",
   "execution_count": 38,
   "metadata": {},
   "outputs": [
    {
     "name": "stdout",
     "output_type": "stream",
     "text": [
      "[12  5  7 18  8 19  4  7  2 13]\n",
      "[12  5  7 18  8 19  4  7  2 13]\n",
      "[False False False False False False False False  True False]\n"
     ]
    }
   ],
   "source": [
    "#10\n",
    "'''Write a NumPy program to find equal values between two arrays.\n",
    "'''\n",
    "arr1=np.random.randint(1,20,10)\n",
    "arr2=np.random.randint(1,20,10)\n",
    "print(arr1)\n",
    "print(arr1)\n",
    "\n",
    "greater=np.equal(arr1,arr2)\n",
    "equal=[]\n",
    "for i in range(len(greater)):\n",
    "    if greater[i]:\n",
    "        equal.append(arr1[i])\n",
    "print(greater)\n"
   ]
  },
  {
   "cell_type": "code",
   "execution_count": 9,
   "metadata": {},
   "outputs": [],
   "source": [
    "\n"
   ]
  },
  {
   "cell_type": "code",
   "execution_count": null,
   "metadata": {},
   "outputs": [],
   "source": []
  }
 ],
 "metadata": {
  "kernelspec": {
   "display_name": "Python 3",
   "language": "python",
   "name": "python3"
  },
  "language_info": {
   "codemirror_mode": {
    "name": "ipython",
    "version": 3
   },
   "file_extension": ".py",
   "mimetype": "text/x-python",
   "name": "python",
   "nbconvert_exporter": "python",
   "pygments_lexer": "ipython3",
   "version": "3.7.6"
  }
 },
 "nbformat": 4,
 "nbformat_minor": 4
}
