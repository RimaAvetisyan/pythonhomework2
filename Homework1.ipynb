{
 "cells": [
  {
   "cell_type": "code",
   "execution_count": 2,
   "metadata": {},
   "outputs": [
    {
     "name": "stdout",
     "output_type": "stream",
     "text": [
      "4582\n",
      "19\n"
     ]
    }
   ],
   "source": [
    "#Digit Sum 4\n",
    "'''The program’s input is a four-digit number (do not check that fact, just\n",
    "assume it to be true). Output the sum of its digits.\n",
    "4521------12\n",
    "5864------23\n",
    "'''\n",
    "\n",
    "num=int(input())\n",
    "sum=num//1000+num//100%10+num//10%10+num%10\n",
    "print(sum)\n"
   ]
  },
  {
   "cell_type": "code",
   "execution_count": 3,
   "metadata": {},
   "outputs": [
    {
     "name": "stdout",
     "output_type": "stream",
     "text": [
      "4\n",
      "5\n",
      "10.0\n"
     ]
    }
   ],
   "source": [
    "#Area of a right triangle\n",
    "'''The input of the program consists of two integers: the legs of a right\n",
    "triangle. Output the triangle’s area.\n",
    "'''\n",
    "'''\n",
    "leg1=int(input())\n",
    "leg2=int(input())\n",
    "print(1/2*leg1*leg2)\n",
    "'''"
   ]
  },
  {
   "cell_type": "code",
   "execution_count": 4,
   "metadata": {},
   "outputs": [
    {
     "name": "stdout",
     "output_type": "stream",
     "text": [
      "9\n",
      "4\n",
      "2\n",
      "4\n"
     ]
    }
   ],
   "source": [
    "#Arithmetic Progression\n",
    "'''The program input consists of 3 integer numbers: a1, a2 and n. a1 and\n",
    "a2 are the first two members of arithmetic progression. Output the value\n",
    "of the n-th member.\n",
    "'''\n",
    "\n",
    "'''\n",
    "a1=int(input())\n",
    "a2=int(input())\n",
    "n=int(input())\n",
    "d=a2-a1\n",
    "an=a1+(n-1)*d\n",
    "print(an)\n",
    "'''"
   ]
  },
  {
   "cell_type": "code",
   "execution_count": 8,
   "metadata": {},
   "outputs": [
    {
     "name": "stdout",
     "output_type": "stream",
     "text": [
      "2001\n",
      "21\n"
     ]
    }
   ],
   "source": [
    "#Century from year\n",
    "'''Given a year, return the century it is in. The first century spans from the\n",
    "year 1 up to and including the year 100, the second - from the year 101\n",
    "up to and including the year 200, etc.\n",
    "'''\n",
    "\n",
    "year=int(input())\n",
    "print((year-1)//100+1)\n"
   ]
  },
  {
   "cell_type": "code",
   "execution_count": 9,
   "metadata": {},
   "outputs": [
    {
     "name": "stdout",
     "output_type": "stream",
     "text": [
      "4\n",
      "7\n",
      "6 3\n"
     ]
    }
   ],
   "source": [
    "#Two men\n",
    "'''Two men start to shoot several cans of Coca-Cola they have put on a\n",
    "log. The first man began shooting the cans in order, starting with the\n",
    "leftmost, the second man from the rightmost. At some point, they\n",
    "simultaneously shot the same last can. And at this point they stop.\n",
    "You are given the number of cans the first man has shot, and the\n",
    "number of cans the second man has shot. Output the number of cans\n",
    "the first man missed because of the second man, and the number of\n",
    "cans the second man missed because of the first man.\n",
    "'''\n",
    "'''\n",
    "men1=int(input())\n",
    "men2=int(input())\n",
    "num=men1+men2-1\n",
    "missed1=num-men1\n",
    "missed2=num-men2\n",
    "print(missed1,missed2)\n",
    "'''"
   ]
  },
  {
   "cell_type": "code",
   "execution_count": 18,
   "metadata": {},
   "outputs": [
    {
     "name": "stdout",
     "output_type": "stream",
     "text": [
      "6\n",
      "4\n",
      "[[5, 2], [7, 2], [4, 3], [4, 5], [5, 6], [7, 6], [8, 3], [8, 5]]\n"
     ]
    }
   ],
   "source": [
    "#Knight’s Possible Moves\n",
    "'''You are given the coordinates of a cell on a standard chess board: py\n",
    "and px. It is guaranteed that the coordinates are correct, i.e. are integers\n",
    "from the interval [1,8]. Output all cells that the knight can move in a\n",
    "single move(each coordinate pair on separate line). It is guaranteed that\n",
    "for a given input cell all 8 moves exist. The output cells order does not\n",
    "matter.\n",
    "'''\n",
    "'''\n",
    "x=int(input())\n",
    "y=int(input())\n",
    "m=[]\n",
    "m.append([x-1,y-2])\n",
    "m.append([x+1,y-2])\n",
    "m.append([x-2,y-1])\n",
    "m.append([x-2,y+1])\n",
    "m.append([x-1,y+2])\n",
    "m.append([x+1,y+2])\n",
    "m.append([x+2,y-1])\n",
    "m.append([x+2,y+1])\n",
    "print(m)\n",
    "'''"
   ]
  },
  {
   "cell_type": "code",
   "execution_count": 22,
   "metadata": {},
   "outputs": [
    {
     "name": "stdout",
     "output_type": "stream",
     "text": [
      "JhonDipPeta\n",
      "Dip\n"
     ]
    }
   ],
   "source": [
    "#Strings 1\n",
    "'''Given a string of odd length greater than 3, return a new string made of\n",
    "the middle three characters of a given String\n",
    "'''\n",
    "'''\n",
    "string=input()\n",
    "l=len(string)//2\n",
    "print(string[l-1:l+2])\n",
    "'''"
   ]
  },
  {
   "cell_type": "code",
   "execution_count": 25,
   "metadata": {},
   "outputs": [
    {
     "name": "stdout",
     "output_type": "stream",
     "text": [
      "ault\n",
      "kelly\n",
      "aukellylt\n"
     ]
    }
   ],
   "source": [
    "#Strings 2\n",
    "'''Given two strings, s1 and s2, create a new string by appending s2 in the\n",
    "middle of s1.\n",
    "'''\n",
    "'''\n",
    "s1=input()\n",
    "s2=input()\n",
    "l=len(s1)//2\n",
    "s3=s1[:l]+s2+s1[l:]\n",
    "print(s3)\n",
    "'''"
   ]
  },
  {
   "cell_type": "code",
   "execution_count": null,
   "metadata": {},
   "outputs": [],
   "source": [
    "#Strings 3\n",
    "'''\n",
    "Given two strings, s1 and s2, create a new string by appending s2 in the\n",
    "middle of s1.\n",
    "'''\n"
   ]
  }
 ],
 "metadata": {
  "kernelspec": {
   "display_name": "Python 3",
   "language": "python",
   "name": "python3"
  },
  "language_info": {
   "codemirror_mode": {
    "name": "ipython",
    "version": 3
   },
   "file_extension": ".py",
   "mimetype": "text/x-python",
   "name": "python",
   "nbconvert_exporter": "python",
   "pygments_lexer": "ipython3",
   "version": "3.7.6"
  }
 },
 "nbformat": 4,
 "nbformat_minor": 4
}
