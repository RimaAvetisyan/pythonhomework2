{
 "cells": [
  {
   "cell_type": "code",
   "execution_count": 8,
   "metadata": {},
   "outputs": [
    {
     "name": "stdout",
     "output_type": "stream",
     "text": [
      "[5, 10, 15, 200, 25, 50, 20]\n"
     ]
    }
   ],
   "source": [
    "#P1\n",
    "'''Given a list, find value 20 in the list, replace it with 200. Only update the\n",
    "first occurrence of a value.\n",
    "'''\n",
    "lst=[5,10,15,20,25,50,20]\n",
    "x=lst.index(20)\n",
    "lst[x]=200\n",
    "print(lst)"
   ]
  },
  {
   "cell_type": "code",
   "execution_count": 9,
   "metadata": {},
   "outputs": [
    {
     "name": "stdout",
     "output_type": "stream",
     "text": [
      "[5, 10, 15, 25, 50, 20]\n"
     ]
    }
   ],
   "source": [
    "#P2\n",
    "'''Given a list, remove the first occurrence of 20 from the list.\n",
    "'''\n",
    "lst=[5,10,15,20,25,50,20]\n",
    "x=lst.index(20)\n",
    "lst.pop(x)\n",
    "print(lst)\n"
   ]
  },
  {
   "cell_type": "code",
   "execution_count": 11,
   "metadata": {},
   "outputs": [
    {
     "name": "stdout",
     "output_type": "stream",
     "text": [
      "70\n"
     ]
    }
   ],
   "source": [
    "#P3\n",
    "'''Given a list, print the second largest element.\n",
    "'''\n",
    "lst=[70, 11, 20, 4, 100]\n",
    "maxi=max(lst)\n",
    "x=lst.index(maxi)\n",
    "lst.pop(x)\n",
    "maxi=max(lst)\n",
    "print(maxi)"
   ]
  },
  {
   "cell_type": "code",
   "execution_count": 2,
   "metadata": {},
   "outputs": [
    {
     "name": "stdout",
     "output_type": "stream",
     "text": [
      "{1: 10, 2: 20, 3: 30, 4: 40, 5: 50, 6: 60}\n"
     ]
    }
   ],
   "source": [
    "#P4\n",
    "'''Given 3 dictionaries, create a new dictionary, which contains all of them.\n",
    "'''\n",
    "dic1={1:10, 2:20}\n",
    "dic2={3:30, 4:40}\n",
    "dic3={5:50,6:60}\n",
    "dic1.update(dic2)\n",
    "dic1.update(dic3)\n",
    "print(dic1)"
   ]
  },
  {
   "cell_type": "code",
   "execution_count": 6,
   "metadata": {},
   "outputs": [
    {
     "name": "stdout",
     "output_type": "stream",
     "text": [
      "b\n",
      "{'a': 1, 'c': 3, 'd': 4}\n"
     ]
    }
   ],
   "source": [
    "#P5\n",
    "'''Given a dictionary, remove the given key.\n",
    "'''\n",
    "dic={'a':1,'b':2,'c':3,'d':4}\n",
    "x=input()\n",
    "dic.pop(x)\n",
    "print(dic)\n",
    "     "
   ]
  },
  {
   "cell_type": "code",
   "execution_count": 13,
   "metadata": {},
   "outputs": [
    {
     "name": "stdout",
     "output_type": "stream",
     "text": [
      "10\n"
     ]
    },
    {
     "data": {
      "text/plain": [
       "True"
      ]
     },
     "execution_count": 13,
     "metadata": {},
     "output_type": "execute_result"
    }
   ],
   "source": [
    "#P6\n",
    "'''Given a set, check if the given number exists.\n",
    "'''\n",
    "s = {1, 10, 90, 9}\n",
    "n=int(input())\n",
    "n in s"
   ]
  },
  {
   "cell_type": "code",
   "execution_count": 19,
   "metadata": {},
   "outputs": [
    {
     "name": "stdout",
     "output_type": "stream",
     "text": [
      "100\n",
      "[0, 7, 14, 21, 28, 35, 42, 49, 56, 63, 70, 77, 84, 91, 98]\n"
     ]
    }
   ],
   "source": [
    "#P7\n",
    "'''For a given n, create a list (using loops, or list comprehension), which\n",
    "contains all natural numbers less or equal n divisible by 7.\n",
    "'''\n",
    "lst1=[]\n",
    "n=int(input())\n",
    "for i in range(n):\n",
    "    if i%7==0:\n",
    "       lst1.append(i)\n",
    "print(lst1)"
   ]
  },
  {
   "cell_type": "code",
   "execution_count": null,
   "metadata": {},
   "outputs": [],
   "source": []
  }
 ],
 "metadata": {
  "kernelspec": {
   "display_name": "Python 3",
   "language": "python",
   "name": "python3"
  },
  "language_info": {
   "codemirror_mode": {
    "name": "ipython",
    "version": 3
   },
   "file_extension": ".py",
   "mimetype": "text/x-python",
   "name": "python",
   "nbconvert_exporter": "python",
   "pygments_lexer": "ipython3",
   "version": "3.7.6"
  }
 },
 "nbformat": 4,
 "nbformat_minor": 4
}
